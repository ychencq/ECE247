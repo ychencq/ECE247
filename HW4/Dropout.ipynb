{
 "cells": [
  {
   "cell_type": "markdown",
   "metadata": {},
   "source": [
    "# Dropout\n",
    "\n",
    "In this notebook, you will implement dropout.  Then we will ask you to train a network with batchnorm and dropout, and acheive over 55% accuracy on CIFAR-10.\n",
    "\n",
    "CS231n has built a solid API for building these modular frameworks and training them, and we will use their very well implemented framework as opposed to \"reinventing the wheel.\"  This includes using their Solver, various utility functions, and their layer structure.  This also includes nndl.fc_net, nndl.layers, and nndl.layer_utils.  As in prior assignments, we thank Serena Yeung & Justin Johnson for permission to use code written for the CS 231n class (cs231n.stanford.edu).  "
   ]
  },
  {
   "cell_type": "code",
   "execution_count": 1,
   "metadata": {},
   "outputs": [],
   "source": [
    "## Import and setups\n",
    "\n",
    "import time\n",
    "import numpy as np\n",
    "import matplotlib.pyplot as plt\n",
    "from nndl.fc_net import *\n",
    "from nndl.layers import *\n",
    "from cs231n.data_utils import get_CIFAR10_data\n",
    "from cs231n.gradient_check import eval_numerical_gradient, eval_numerical_gradient_array\n",
    "from cs231n.solver import Solver\n",
    "\n",
    "%matplotlib inline\n",
    "plt.rcParams['figure.figsize'] = (10.0, 8.0) # set default size of plots\n",
    "plt.rcParams['image.interpolation'] = 'nearest'\n",
    "plt.rcParams['image.cmap'] = 'gray'\n",
    "\n",
    "# for auto-reloading external modules\n",
    "# see http://stackoverflow.com/questions/1907993/autoreload-of-modules-in-ipython\n",
    "%load_ext autoreload\n",
    "%autoreload 2\n",
    "\n",
    "def rel_error(x, y):\n",
    "    \"\"\" returns relative error \"\"\"\n",
    "    return np.max(np.abs(x - y) / (np.maximum(1e-8, np.abs(x) + np.abs(y))))"
   ]
  },
  {
   "cell_type": "code",
   "execution_count": 2,
   "metadata": {},
   "outputs": [
    {
     "name": "stdout",
     "output_type": "stream",
     "text": [
      "X_train: (49000, 3, 32, 32) \n",
      "y_train: (49000,) \n",
      "X_val: (1000, 3, 32, 32) \n",
      "y_val: (1000,) \n",
      "X_test: (1000, 3, 32, 32) \n",
      "y_test: (1000,) \n"
     ]
    }
   ],
   "source": [
    "# Load the (preprocessed) CIFAR10 data.\n",
    "\n",
    "data = get_CIFAR10_data()\n",
    "for k in data.keys():\n",
    "    print('{}: {} '.format(k, data[k].shape))"
   ]
  },
  {
   "cell_type": "markdown",
   "metadata": {},
   "source": [
    "## Dropout forward pass\n",
    "\n",
    "Implement the training and test time dropout forward pass, `dropout_forward`, in `nndl/layers.py`. After that, test your implementation by running the following cell."
   ]
  },
  {
   "cell_type": "code",
   "execution_count": 3,
   "metadata": {},
   "outputs": [
    {
     "name": "stdout",
     "output_type": "stream",
     "text": [
      "Running tests with p =  0.3\n",
      "Mean of input:  10.003427010240175\n",
      "Mean of train-time output:  10.021162290173713\n",
      "Mean of test-time output:  10.003427010240175\n",
      "Fraction of train-time output set to zero:  0.699452\n",
      "Fraction of test-time output set to zero:  0.0\n",
      "Running tests with p =  0.6\n",
      "Mean of input:  10.003427010240175\n",
      "Mean of train-time output:  10.01700664235989\n",
      "Mean of test-time output:  10.003427010240175\n",
      "Fraction of train-time output set to zero:  0.399128\n",
      "Fraction of test-time output set to zero:  0.0\n",
      "Running tests with p =  0.75\n",
      "Mean of input:  10.003427010240175\n",
      "Mean of train-time output:  10.008844281718412\n",
      "Mean of test-time output:  10.003427010240175\n",
      "Fraction of train-time output set to zero:  0.249648\n",
      "Fraction of test-time output set to zero:  0.0\n"
     ]
    }
   ],
   "source": [
    "x = np.random.randn(500, 500) + 10\n",
    "\n",
    "for p in [0.3, 0.6, 0.75]:\n",
    "    out, _ = dropout_forward(x, {'mode': 'train', 'p': p})\n",
    "    out_test, _ = dropout_forward(x, {'mode': 'test', 'p': p})\n",
    "\n",
    "    print('Running tests with p = ', p)\n",
    "    print('Mean of input: ', x.mean())\n",
    "    print('Mean of train-time output: ', out.mean())\n",
    "    print('Mean of test-time output: ', out_test.mean())\n",
    "    print('Fraction of train-time output set to zero: ', (out == 0).mean())\n",
    "    print('Fraction of test-time output set to zero: ', (out_test == 0).mean())"
   ]
  },
  {
   "cell_type": "markdown",
   "metadata": {},
   "source": [
    "## Dropout backward pass\n",
    "\n",
    "Implement the backward pass, `dropout_backward`, in `nndl/layers.py`.  After that, test your gradients by running the following cell:"
   ]
  },
  {
   "cell_type": "code",
   "execution_count": 4,
   "metadata": {},
   "outputs": [
    {
     "name": "stdout",
     "output_type": "stream",
     "text": [
      "dx relative error:  5.445606043681342e-11\n"
     ]
    }
   ],
   "source": [
    "x = np.random.randn(10, 10) + 10\n",
    "dout = np.random.randn(*x.shape)\n",
    "\n",
    "dropout_param = {'mode': 'train', 'p': 0.8, 'seed': 123}\n",
    "out, cache = dropout_forward(x, dropout_param)\n",
    "dx = dropout_backward(dout, cache)\n",
    "dx_num = eval_numerical_gradient_array(lambda xx: dropout_forward(xx, dropout_param)[0], x, dout)\n",
    "\n",
    "print('dx relative error: ', rel_error(dx, dx_num))"
   ]
  },
  {
   "cell_type": "markdown",
   "metadata": {},
   "source": [
    "## Implement a fully connected neural network with dropout layers\n",
    "\n",
    "Modify the `FullyConnectedNet()` class in `nndl/fc_net.py` to incorporate dropout.  A dropout layer should be incorporated after every ReLU layer.  Concretely, there shouldn't be a dropout at the output layer since there is no ReLU at the output layer. You will need to modify the class in the following areas:\n",
    "\n",
    "(1) In the forward pass, you will need to incorporate a dropout layer after every relu layer.\n",
    "\n",
    "(2) In the backward pass, you will need to incorporate a dropout backward pass layer.\n",
    "\n",
    "Check your implementation by running the following code.  Our W1 gradient relative error is on the order of 1e-6 (the largest of all the relative errors)."
   ]
  },
  {
   "cell_type": "code",
   "execution_count": 5,
   "metadata": {},
   "outputs": [
    {
     "name": "stdout",
     "output_type": "stream",
     "text": [
      "Running check with dropout =  0.5\n",
      "Initial loss:  2.3130766680585553\n",
      "W1 relative error: 3.521651326711492e-07\n",
      "W2 relative error: 8.670503459180064e-08\n",
      "W3 relative error: 1.7697093144983185e-08\n",
      "b1 relative error: 1.3630944494006748e-09\n",
      "b2 relative error: 3.369320802894315e-10\n",
      "b3 relative error: 1.1749705566445823e-10\n",
      "\n",
      "\n",
      "Running check with dropout =  0.75\n",
      "Initial loss:  2.309414501950614\n",
      "W1 relative error: 8.906540579188389e-07\n",
      "W2 relative error: 1.936238275676803e-07\n",
      "W3 relative error: 6.433724911088976e-08\n",
      "b1 relative error: 2.0734747686348973e-08\n",
      "b2 relative error: 1.4046686169099795e-09\n",
      "b3 relative error: 1.2240973876822177e-10\n",
      "\n",
      "\n",
      "Running check with dropout =  1.0\n",
      "Initial loss:  2.3053332250963194\n",
      "W1 relative error: 1.274409601207746e-06\n",
      "W2 relative error: 4.6787432938161757e-07\n",
      "W3 relative error: 4.331673927857074e-08\n",
      "b1 relative error: 4.085353894378552e-08\n",
      "b2 relative error: 1.9513421151754587e-09\n",
      "b3 relative error: 9.387142701440351e-11\n",
      "\n",
      "\n"
     ]
    }
   ],
   "source": [
    "N, D, H1, H2, C = 2, 15, 20, 30, 10\n",
    "X = np.random.randn(N, D)\n",
    "y = np.random.randint(C, size=(N,))\n",
    "\n",
    "for dropout in [0.5, 0.75, 1.0]:\n",
    "    print('Running check with dropout = ', dropout)\n",
    "    model = FullyConnectedNet([H1, H2], input_dim=D, num_classes=C,\n",
    "                              weight_scale=5e-2, dtype=np.float64,\n",
    "                              dropout=dropout, seed=123)\n",
    "\n",
    "    loss, grads = model.loss(X, y)\n",
    "    print('Initial loss: ', loss)\n",
    "\n",
    "    for name in sorted(grads):\n",
    "        f = lambda _: model.loss(X, y)[0]\n",
    "        grad_num = eval_numerical_gradient(f, model.params[name], verbose=False, h=1e-5)\n",
    "        print('{} relative error: {}'.format(name, rel_error(grad_num, grads[name])))\n",
    "    print('\\n')"
   ]
  },
  {
   "cell_type": "markdown",
   "metadata": {},
   "source": [
    "## Dropout as a regularizer\n",
    "\n",
    "In class, we claimed that dropout acts as a regularizer by effectively bagging.  To check this, we will train two small networks, one with dropout and one without dropout.  "
   ]
  },
  {
   "cell_type": "code",
   "execution_count": 8,
   "metadata": {},
   "outputs": [
    {
     "name": "stdout",
     "output_type": "stream",
     "text": [
      "(Iteration 1 / 125) loss: 2.303565\n",
      "(Epoch 0 / 25) train acc: 0.158000; val_acc: 0.145000\n",
      "(Epoch 1 / 25) train acc: 0.188000; val_acc: 0.160000\n",
      "(Epoch 2 / 25) train acc: 0.206000; val_acc: 0.170000\n",
      "(Epoch 3 / 25) train acc: 0.276000; val_acc: 0.232000\n",
      "(Epoch 4 / 25) train acc: 0.298000; val_acc: 0.253000\n",
      "(Epoch 5 / 25) train acc: 0.302000; val_acc: 0.236000\n",
      "(Epoch 6 / 25) train acc: 0.292000; val_acc: 0.227000\n",
      "(Epoch 7 / 25) train acc: 0.314000; val_acc: 0.256000\n",
      "(Epoch 8 / 25) train acc: 0.356000; val_acc: 0.296000\n",
      "(Epoch 9 / 25) train acc: 0.400000; val_acc: 0.290000\n",
      "(Epoch 10 / 25) train acc: 0.418000; val_acc: 0.302000\n",
      "(Epoch 11 / 25) train acc: 0.440000; val_acc: 0.307000\n",
      "(Epoch 12 / 25) train acc: 0.466000; val_acc: 0.316000\n",
      "(Epoch 13 / 25) train acc: 0.524000; val_acc: 0.324000\n",
      "(Epoch 14 / 25) train acc: 0.564000; val_acc: 0.328000\n",
      "(Epoch 15 / 25) train acc: 0.524000; val_acc: 0.329000\n",
      "(Epoch 16 / 25) train acc: 0.548000; val_acc: 0.304000\n",
      "(Epoch 17 / 25) train acc: 0.586000; val_acc: 0.331000\n",
      "(Epoch 18 / 25) train acc: 0.626000; val_acc: 0.336000\n",
      "(Epoch 19 / 25) train acc: 0.604000; val_acc: 0.326000\n",
      "(Epoch 20 / 25) train acc: 0.626000; val_acc: 0.332000\n",
      "(Iteration 101 / 125) loss: 1.375207\n",
      "(Epoch 21 / 25) train acc: 0.648000; val_acc: 0.325000\n",
      "(Epoch 22 / 25) train acc: 0.694000; val_acc: 0.324000\n",
      "(Epoch 23 / 25) train acc: 0.720000; val_acc: 0.319000\n",
      "(Epoch 24 / 25) train acc: 0.722000; val_acc: 0.310000\n",
      "(Epoch 25 / 25) train acc: 0.744000; val_acc: 0.305000\n",
      "(Iteration 1 / 125) loss: 2.303566\n",
      "(Epoch 0 / 25) train acc: 0.176000; val_acc: 0.139000\n",
      "(Epoch 1 / 25) train acc: 0.182000; val_acc: 0.149000\n",
      "(Epoch 2 / 25) train acc: 0.254000; val_acc: 0.205000\n",
      "(Epoch 3 / 25) train acc: 0.308000; val_acc: 0.264000\n",
      "(Epoch 4 / 25) train acc: 0.338000; val_acc: 0.260000\n",
      "(Epoch 5 / 25) train acc: 0.404000; val_acc: 0.288000\n",
      "(Epoch 6 / 25) train acc: 0.472000; val_acc: 0.315000\n",
      "(Epoch 7 / 25) train acc: 0.496000; val_acc: 0.323000\n",
      "(Epoch 8 / 25) train acc: 0.564000; val_acc: 0.320000\n",
      "(Epoch 9 / 25) train acc: 0.606000; val_acc: 0.331000\n",
      "(Epoch 10 / 25) train acc: 0.634000; val_acc: 0.333000\n",
      "(Epoch 11 / 25) train acc: 0.666000; val_acc: 0.331000\n",
      "(Epoch 12 / 25) train acc: 0.744000; val_acc: 0.331000\n",
      "(Epoch 13 / 25) train acc: 0.752000; val_acc: 0.322000\n",
      "(Epoch 14 / 25) train acc: 0.764000; val_acc: 0.322000\n",
      "(Epoch 15 / 25) train acc: 0.838000; val_acc: 0.302000\n",
      "(Epoch 16 / 25) train acc: 0.844000; val_acc: 0.333000\n",
      "(Epoch 17 / 25) train acc: 0.854000; val_acc: 0.298000\n",
      "(Epoch 18 / 25) train acc: 0.936000; val_acc: 0.288000\n",
      "(Epoch 19 / 25) train acc: 0.908000; val_acc: 0.301000\n",
      "(Epoch 20 / 25) train acc: 0.946000; val_acc: 0.298000\n",
      "(Iteration 101 / 125) loss: 0.234973\n",
      "(Epoch 21 / 25) train acc: 0.930000; val_acc: 0.304000\n",
      "(Epoch 22 / 25) train acc: 0.944000; val_acc: 0.285000\n",
      "(Epoch 23 / 25) train acc: 0.976000; val_acc: 0.319000\n",
      "(Epoch 24 / 25) train acc: 0.984000; val_acc: 0.290000\n",
      "(Epoch 25 / 25) train acc: 0.988000; val_acc: 0.287000\n"
     ]
    }
   ],
   "source": [
    "# Train two identical nets, one with dropout and one without\n",
    "\n",
    "num_train = 500\n",
    "small_data = {\n",
    "    'X_train': data['X_train'][:num_train],\n",
    "    'y_train': data['y_train'][:num_train],\n",
    "    'X_val': data['X_val'],\n",
    "    'y_val': data['y_val'],\n",
    "}\n",
    "\n",
    "solvers = {}\n",
    "dropout_choices = [0.6, 1.0]\n",
    "for dropout in dropout_choices:\n",
    "    model = FullyConnectedNet([100, 100, 100], dropout=dropout)\n",
    "\n",
    "    solver = Solver(model, small_data,\n",
    "                    num_epochs=25, batch_size=100,\n",
    "                    update_rule='adam',\n",
    "                    optim_config={\n",
    "                      'learning_rate': 5e-4,\n",
    "                    },\n",
    "                    verbose=True, print_every=100)\n",
    "    solver.train()\n",
    "    solvers[dropout] = solver"
   ]
  },
  {
   "cell_type": "code",
   "execution_count": 9,
   "metadata": {},
   "outputs": [
    {
     "data": {
      "image/png": "[encoded data removed]",
      "text/plain": [
       "<Figure size 1080x1080 with 2 Axes>"
      ]
     },
     "metadata": {
      "needs_background": "light"
     },
     "output_type": "display_data"
    }
   ],
   "source": [
    "# Plot train and validation accuracies of the two models\n",
    "\n",
    "train_accs = []\n",
    "val_accs = []\n",
    "for dropout in dropout_choices:\n",
    "    solver = solvers[dropout]\n",
    "    train_accs.append(solver.train_acc_history[-1])\n",
    "    val_accs.append(solver.val_acc_history[-1])\n",
    "\n",
    "plt.subplot(3, 1, 1)\n",
    "for dropout in dropout_choices:\n",
    "    plt.plot(solvers[dropout].train_acc_history, 'o', label='%.2f dropout' % dropout)\n",
    "plt.title('Train accuracy')\n",
    "plt.xlabel('Epoch')\n",
    "plt.ylabel('Accuracy')\n",
    "plt.legend(ncol=2, loc='lower right')\n",
    "  \n",
    "plt.subplot(3, 1, 2)\n",
    "for dropout in dropout_choices:\n",
    "    plt.plot(solvers[dropout].val_acc_history, 'o', label='%.2f dropout' % dropout)\n",
    "plt.title('Val accuracy')\n",
    "plt.xlabel('Epoch')\n",
    "plt.ylabel('Accuracy')\n",
    "plt.legend(ncol=2, loc='lower right')\n",
    "\n",
    "plt.gcf().set_size_inches(15, 15)\n",
    "plt.show()"
   ]
  },
  {
   "cell_type": "markdown",
   "metadata": {},
   "source": [
    "## Question\n",
    "\n",
    "Based off the results of this experiment, is dropout performing regularization?  Explain your answer."
   ]
  },
  {
   "cell_type": "markdown",
   "metadata": {},
   "source": [
    "## Answer:\n",
    "Yes. I find that with keeping all units p = 1(drop out rate 0), the model overfits. While with p = 0.6, the problem of overfitting is not that severe."
   ]
  },
  {
   "cell_type": "markdown",
   "metadata": {},
   "source": [
    "##### Final part of the assignment\n",
    "\n",
    "Get over 55% validation accuracy on CIFAR-10 by using the layers you have implemented.  You will be graded according to the following equation:\n",
    "\n",
    "min(floor((X - 32%)) / 23%, 1) \n",
    "where if you get 55% or higher validation accuracy, you get full points."
   ]
  },
  {
   "cell_type": "code",
   "execution_count": 12,
   "metadata": {
    "scrolled": false
   },
   "outputs": [
    {
     "name": "stdout",
     "output_type": "stream",
     "text": [
      "(Iteration 1 / 9800) loss: 2.314191\n",
      "(Epoch 0 / 20) train acc: 0.153000; val_acc: 0.142000\n",
      "(Iteration 101 / 9800) loss: 1.915288\n",
      "(Iteration 201 / 9800) loss: 1.839926\n",
      "(Iteration 301 / 9800) loss: 1.881737\n",
      "(Iteration 401 / 9800) loss: 1.766822\n",
      "(Epoch 1 / 20) train acc: 0.415000; val_acc: 0.434000\n",
      "(Iteration 501 / 9800) loss: 1.715114\n",
      "(Iteration 601 / 9800) loss: 1.739466\n",
      "(Iteration 701 / 9800) loss: 1.546810\n",
      "(Iteration 801 / 9800) loss: 1.681621\n",
      "(Iteration 901 / 9800) loss: 1.638611\n",
      "(Epoch 2 / 20) train acc: 0.455000; val_acc: 0.452000\n",
      "(Iteration 1001 / 9800) loss: 1.734214\n",
      "(Iteration 1101 / 9800) loss: 1.787092\n",
      "(Iteration 1201 / 9800) loss: 1.735005\n",
      "(Iteration 1301 / 9800) loss: 1.749785\n",
      "(Iteration 1401 / 9800) loss: 1.624128\n",
      "(Epoch 3 / 20) train acc: 0.476000; val_acc: 0.477000\n",
      "(Iteration 1501 / 9800) loss: 1.533947\n",
      "(Iteration 1601 / 9800) loss: 1.550101\n",
      "(Iteration 1701 / 9800) loss: 1.695927\n",
      "(Iteration 1801 / 9800) loss: 1.570175\n",
      "(Iteration 1901 / 9800) loss: 1.594567\n",
      "(Epoch 4 / 20) train acc: 0.499000; val_acc: 0.497000\n",
      "(Iteration 2001 / 9800) loss: 1.461160\n",
      "(Iteration 2101 / 9800) loss: 1.411482\n",
      "(Iteration 2201 / 9800) loss: 1.650209\n",
      "(Iteration 2301 / 9800) loss: 1.445743\n",
      "(Iteration 2401 / 9800) loss: 1.678246\n",
      "(Epoch 5 / 20) train acc: 0.520000; val_acc: 0.511000\n",
      "(Iteration 2501 / 9800) loss: 1.637172\n",
      "(Iteration 2601 / 9800) loss: 1.616375\n",
      "(Iteration 2701 / 9800) loss: 1.589870\n",
      "(Iteration 2801 / 9800) loss: 1.418468\n",
      "(Iteration 2901 / 9800) loss: 1.596223\n",
      "(Epoch 6 / 20) train acc: 0.500000; val_acc: 0.508000\n",
      "(Iteration 3001 / 9800) loss: 1.370093\n",
      "(Iteration 3101 / 9800) loss: 1.458017\n",
      "(Iteration 3201 / 9800) loss: 1.467199\n",
      "(Iteration 3301 / 9800) loss: 1.547348\n",
      "(Iteration 3401 / 9800) loss: 1.408203\n",
      "(Epoch 7 / 20) train acc: 0.530000; val_acc: 0.530000\n",
      "(Iteration 3501 / 9800) loss: 1.564640\n",
      "(Iteration 3601 / 9800) loss: 1.514232\n",
      "(Iteration 3701 / 9800) loss: 1.721331\n",
      "(Iteration 3801 / 9800) loss: 1.508367\n",
      "(Iteration 3901 / 9800) loss: 1.423655\n",
      "(Epoch 8 / 20) train acc: 0.570000; val_acc: 0.531000\n",
      "(Iteration 4001 / 9800) loss: 1.484392\n",
      "(Iteration 4101 / 9800) loss: 1.559215\n",
      "(Iteration 4201 / 9800) loss: 1.357476\n",
      "(Iteration 4301 / 9800) loss: 1.351837\n",
      "(Iteration 4401 / 9800) loss: 1.333813\n",
      "(Epoch 9 / 20) train acc: 0.544000; val_acc: 0.524000\n",
      "(Iteration 4501 / 9800) loss: 1.393348\n",
      "(Iteration 4601 / 9800) loss: 1.437942\n",
      "(Iteration 4701 / 9800) loss: 1.308525\n",
      "(Iteration 4801 / 9800) loss: 1.504212\n",
      "(Epoch 10 / 20) train acc: 0.578000; val_acc: 0.515000\n",
      "(Iteration 4901 / 9800) loss: 1.384710\n",
      "(Iteration 5001 / 9800) loss: 1.476278\n",
      "(Iteration 5101 / 9800) loss: 1.463131\n",
      "(Iteration 5201 / 9800) loss: 1.172815\n",
      "(Iteration 5301 / 9800) loss: 1.290896\n",
      "(Epoch 11 / 20) train acc: 0.588000; val_acc: 0.542000\n",
      "(Iteration 5401 / 9800) loss: 1.578241\n",
      "(Iteration 5501 / 9800) loss: 1.405348\n",
      "(Iteration 5601 / 9800) loss: 1.619977\n",
      "(Iteration 5701 / 9800) loss: 1.328456\n",
      "(Iteration 5801 / 9800) loss: 1.284939\n",
      "(Epoch 12 / 20) train acc: 0.598000; val_acc: 0.537000\n",
      "(Iteration 5901 / 9800) loss: 1.296803\n",
      "(Iteration 6001 / 9800) loss: 1.430214\n",
      "(Iteration 6101 / 9800) loss: 1.336762\n",
      "(Iteration 6201 / 9800) loss: 1.479680\n",
      "(Iteration 6301 / 9800) loss: 1.243279\n",
      "(Epoch 13 / 20) train acc: 0.578000; val_acc: 0.541000\n",
      "(Iteration 6401 / 9800) loss: 1.295913\n",
      "(Iteration 6501 / 9800) loss: 1.346909\n",
      "(Iteration 6601 / 9800) loss: 1.334252\n",
      "(Iteration 6701 / 9800) loss: 1.359437\n",
      "(Iteration 6801 / 9800) loss: 1.435801\n",
      "(Epoch 14 / 20) train acc: 0.574000; val_acc: 0.550000\n",
      "(Iteration 6901 / 9800) loss: 1.530171\n",
      "(Iteration 7001 / 9800) loss: 1.376037\n",
      "(Iteration 7101 / 9800) loss: 1.301660\n",
      "(Iteration 7201 / 9800) loss: 1.506627\n",
      "(Iteration 7301 / 9800) loss: 1.465922\n",
      "(Epoch 15 / 20) train acc: 0.579000; val_acc: 0.551000\n",
      "(Iteration 7401 / 9800) loss: 1.439855\n",
      "(Iteration 7501 / 9800) loss: 1.392904\n",
      "(Iteration 7601 / 9800) loss: 1.378667\n",
      "(Iteration 7701 / 9800) loss: 1.128251\n",
      "(Iteration 7801 / 9800) loss: 1.529901\n",
      "(Epoch 16 / 20) train acc: 0.612000; val_acc: 0.549000\n",
      "(Iteration 7901 / 9800) loss: 1.115061\n",
      "(Iteration 8001 / 9800) loss: 1.134002\n",
      "(Iteration 8101 / 9800) loss: 1.366640\n",
      "(Iteration 8201 / 9800) loss: 1.211381\n",
      "(Iteration 8301 / 9800) loss: 1.299867\n",
      "(Epoch 17 / 20) train acc: 0.607000; val_acc: 0.559000\n",
      "(Iteration 8401 / 9800) loss: 1.476147\n",
      "(Iteration 8501 / 9800) loss: 1.275178\n",
      "(Iteration 8601 / 9800) loss: 1.249009\n",
      "(Iteration 8701 / 9800) loss: 1.150935\n",
      "(Iteration 8801 / 9800) loss: 1.186564\n",
      "(Epoch 18 / 20) train acc: 0.660000; val_acc: 0.555000\n",
      "(Iteration 8901 / 9800) loss: 1.463238\n",
      "(Iteration 9001 / 9800) loss: 1.213834\n",
      "(Iteration 9101 / 9800) loss: 1.130646\n",
      "(Iteration 9201 / 9800) loss: 1.339787\n",
      "(Iteration 9301 / 9800) loss: 1.313033\n",
      "(Epoch 19 / 20) train acc: 0.617000; val_acc: 0.548000\n",
      "(Iteration 9401 / 9800) loss: 1.319740\n",
      "(Iteration 9501 / 9800) loss: 1.480613\n",
      "(Iteration 9601 / 9800) loss: 1.316323\n",
      "(Iteration 9701 / 9800) loss: 1.337981\n",
      "(Epoch 20 / 20) train acc: 0.646000; val_acc: 0.553000\n"
     ]
    }
   ],
   "source": [
    "# ================================================================ #\n",
    "# YOUR CODE HERE:\n",
    "#   Implement a FC-net that achieves at least 55% validation accuracy\n",
    "#   on CIFAR-10.\n",
    "# ================================================================ #\n",
    "optimizer = 'adam'\n",
    "best_model = None\n",
    "\n",
    "layer_dims = [600, 600, 600, 600]\n",
    "weight_scale = 0.01\n",
    "learning_rate = 1e-3\n",
    "lr_decay = 0.9\n",
    "\n",
    "model = FullyConnectedNet(layer_dims, weight_scale=weight_scale,dropout = 0.4,\n",
    "                          use_batchnorm=True)\n",
    "\n",
    "solver = Solver(model, data,\n",
    "                num_epochs=20, batch_size=100,\n",
    "                update_rule=optimizer,\n",
    "                optim_config={\n",
    "                  'learning_rate': learning_rate,\n",
    "                },\n",
    "                lr_decay=lr_decay,\n",
    "                verbose=True, print_every=100)\n",
    "solver.train()\n",
    "\n",
    "# ================================================================ #\n",
    "# END YOUR CODE HERE\n",
    "# ================================================================ #\n"
   ]
  },
  {
   "cell_type": "code",
   "execution_count": 13,
   "metadata": {},
   "outputs": [
    {
     "name": "stdout",
     "output_type": "stream",
     "text": [
      "Validation set accuracy: 0.57\n",
      "Test set accuracy: 0.559\n"
     ]
    }
   ],
   "source": [
    "y_test_pred = np.argmax(model.loss(data['X_test']), axis=1)\n",
    "y_val_pred = np.argmax(model.loss(data['X_val']), axis=1)\n",
    "print('Validation set accuracy: {}'.format(np.mean(y_val_pred == data['y_val'])))\n",
    "print('Test set accuracy: {}'.format(np.mean(y_test_pred == data['y_test'])))"
   ]
  },
  {
   "cell_type": "code",
   "execution_count": null,
   "metadata": {},
   "outputs": [],
   "source": []
  }
 ],
 "metadata": {
  "kernelspec": {
   "display_name": "Python 3",
   "language": "python",
   "name": "python3"
  },
  "language_info": {
   "codemirror_mode": {
    "name": "ipython",
    "version": 3
   },
   "file_extension": ".py",
   "mimetype": "text/x-python",
   "name": "python",
   "nbconvert_exporter": "python",
   "pygments_lexer": "ipython3",
   "version": "3.7.4"
  }
 },
 "nbformat": 4,
 "nbformat_minor": 2
}
