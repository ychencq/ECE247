{
  "nbformat": 4,
  "nbformat_minor": 0,
  "metadata": {
    "kernelspec": {
      "display_name": "Python 3",
      "language": "python",
      "name": "python3"
    },
    "language_info": {
      "codemirror_mode": {
        "name": "ipython",
        "version": 3
      },
      "file_extension": ".py",
      "mimetype": "text/x-python",
      "name": "python",
      "nbconvert_exporter": "python",
      "pygments_lexer": "ipython3",
      "version": "3.5.8"
    },
    "varInspector": {
      "cols": {
        "lenName": 16,
        "lenType": 16,
        "lenVar": 40
      },
      "kernels_config": {
        "python": {
          "delete_cmd_postfix": "",
          "delete_cmd_prefix": "del ",
          "library": "var_list.py",
          "varRefreshCmd": "print(var_dic_list())"
        },
        "r": {
          "delete_cmd_postfix": ") ",
          "delete_cmd_prefix": "rm(",
          "library": "var_list.r",
          "varRefreshCmd": "cat(var_dic_list()) "
        }
      },
      "types_to_exclude": [
        "module",
        "function",
        "builtin_function_or_method",
        "instance",
        "_Feature"
      ],
      "window_display": true
    },
    "colab": {
      "name": "CNN.ipynb",
      "provenance": [],
      "collapsed_sections": [],
      "include_colab_link": true
    }
  },
  "cells": [
    {
      "cell_type": "markdown",
      "metadata": {
        "id": "view-in-github",
        "colab_type": "text"
      },
      "source": [
        "<a href=\"https://colab.research.google.com/github/ychencq/ECE247/blob/master/CNN.ipynb\" target=\"_parent\"><img src=\"https://colab.research.google.com/assets/colab-badge.svg\" alt=\"Open In Colab\"/></a>"
      ]
    },
    {
      "cell_type": "markdown",
      "metadata": {
        "id": "yO7x4WfysjTf",
        "colab_type": "text"
      },
      "source": [
        "# Convolutional neural networks\n",
        "\n",
        "In this notebook, we'll put together our convolutional layers to implement a 3-layer CNN.  Then, we'll ask you to implement a CNN that can achieve > 65% validation error on CIFAR-10.\n",
        "\n",
        "CS231n has built a solid API for building these modular frameworks and training them, and we will use their very well implemented framework as opposed to \"reinventing the wheel.\"  This includes using their Solver, various utility functions, their layer structure, and their implementation of fast CNN layers.  This also includes nndl.fc_net, nndl.layers, and nndl.layer_utils.  As in prior assignments, we thank Serena Yeung & Justin Johnson for permission to use code written for the CS 231n class (cs231n.stanford.edu).  \n",
        "\n",
        "\n",
        "If you have not completed the Spatial BatchNorm Notebook, please see the following description from that notebook:\n",
        "\n",
        "Please copy and paste your prior implemented code from HW #4 to start this assignment.  If you did not correctly implement the layers in HW #4, you may collaborate with a classmate to use their layer implementations from HW #4.  You may also visit TA or Prof OH to correct your implementation.  \n",
        "\n",
        "You'll want to copy and paste from HW #4:\n",
        "    - layers.py for your FC network layers, as well as batchnorm and dropout.\n",
        "    - layer_utils.py for your combined FC network layers.\n",
        "    - optim.py for your optimizers.\n",
        "\n",
        "Be sure to place these in the `nndl/` directory so they're imported correctly.  Note, as announced in class, we will not be releasing our solutions."
      ]
    },
    {
      "cell_type": "code",
      "metadata": {
        "id": "cmKJdwXvs7QL",
        "colab_type": "code",
        "outputId": "833d67f6-f12d-45ab-bebc-20be310eb5cf",
        "colab": {
          "base_uri": "https://localhost:8080/",
          "height": 309
        }
      },
      "source": [
        "from google.colab import drive\n",
        "drive.mount('/content/drive')\n",
        "import os\n",
        "os.listdir('drive/My Drive/ECE 247/HW5-code/HW5-code')"
      ],
      "execution_count": 0,
      "outputs": [
        {
          "output_type": "stream",
          "text": [
            "Go to this URL in a browser: https://accounts.google.com/o/oauth2/auth?client_id=947318989803-6bn6qk8qdgf4n4g3pfee6491hc0brc4i.apps.googleusercontent.com&redirect_uri=urn%3aietf%3awg%3aoauth%3a2.0%3aoob&response_type=code&scope=email%20https%3a%2f%2fwww.googleapis.com%2fauth%2fdocs.test%20https%3a%2f%2fwww.googleapis.com%2fauth%2fdrive%20https%3a%2f%2fwww.googleapis.com%2fauth%2fdrive.photos.readonly%20https%3a%2f%2fwww.googleapis.com%2fauth%2fpeopleapi.readonly\n",
            "\n",
            "Enter your authorization code:\n",
            "··········\n",
            "Mounted at /content/drive\n"
          ],
          "name": "stdout"
        },
        {
          "output_type": "execute_result",
          "data": {
            "text/plain": [
              "['nndl',\n",
              " '.DS_Store',\n",
              " 'requirements.txt',\n",
              " 'cs231n',\n",
              " '.ipynb_checkpoints',\n",
              " 'requirements-python2.txt',\n",
              " 'cifar-10-python.tar.gz',\n",
              " 'cifar-10-batches-py',\n",
              " 'CNN.ipynb',\n",
              " 'CNN-BatchNorm.ipynb',\n",
              " 'CNN-Layers.ipynb']"
            ]
          },
          "metadata": {
            "tags": []
          },
          "execution_count": 1
        }
      ]
    },
    {
      "cell_type": "code",
      "metadata": {
        "id": "2csDCeO3tESw",
        "colab_type": "code",
        "outputId": "d9bd4c99-f9bc-4c47-9657-85e0710c2452",
        "colab": {
          "base_uri": "https://localhost:8080/",
          "height": 34
        }
      },
      "source": [
        "cd 'drive/My Drive/ECE 247/HW5-code/HW5-code'"
      ],
      "execution_count": 0,
      "outputs": [
        {
          "output_type": "stream",
          "text": [
            "/content/drive/My Drive/ECE 247/HW5-code/HW5-code\n"
          ],
          "name": "stdout"
        }
      ]
    },
    {
      "cell_type": "code",
      "metadata": {
        "id": "2jNtPrVxxoRU",
        "colab_type": "code",
        "outputId": "2040c10a-241d-49c0-af54-203ee3f3579a",
        "colab": {
          "base_uri": "https://localhost:8080/",
          "height": 34
        }
      },
      "source": [
        "!pip3 install Pillow "
      ],
      "execution_count": 0,
      "outputs": [
        {
          "output_type": "stream",
          "text": [
            "Requirement already satisfied: Pillow in /usr/local/lib/python3.6/dist-packages (6.2.2)\n"
          ],
          "name": "stdout"
        }
      ]
    },
    {
      "cell_type": "code",
      "metadata": {
        "id": "X2A5bjttxftw",
        "colab_type": "code",
        "outputId": "3236e151-c22e-4046-9f4b-e43dfaf566a4",
        "colab": {
          "base_uri": "https://localhost:8080/",
          "height": 207
        }
      },
      "source": [
        "pip install scipy==1.2.1"
      ],
      "execution_count": 0,
      "outputs": [
        {
          "output_type": "stream",
          "text": [
            "Collecting scipy==1.2.1\n",
            "\u001b[?25l  Downloading https://files.pythonhosted.org/packages/7f/5f/c48860704092933bf1c4c1574a8de1ffd16bf4fde8bab190d747598844b2/scipy-1.2.1-cp36-cp36m-manylinux1_x86_64.whl (24.8MB)\n",
            "\u001b[K     |████████████████████████████████| 24.8MB 1.7MB/s \n",
            "\u001b[?25hRequirement already satisfied: numpy>=1.8.2 in /usr/local/lib/python3.6/dist-packages (from scipy==1.2.1) (1.17.5)\n",
            "\u001b[31mERROR: albumentations 0.1.12 has requirement imgaug<0.2.7,>=0.2.5, but you'll have imgaug 0.2.9 which is incompatible.\u001b[0m\n",
            "Installing collected packages: scipy\n",
            "  Found existing installation: scipy 1.4.1\n",
            "    Uninstalling scipy-1.4.1:\n",
            "      Successfully uninstalled scipy-1.4.1\n",
            "Successfully installed scipy-1.2.1\n"
          ],
          "name": "stdout"
        }
      ]
    },
    {
      "cell_type": "code",
      "metadata": {
        "id": "oV7iRMr9sjTj",
        "colab_type": "code",
        "colab": {}
      },
      "source": [
        "# As usual, a bit of setup\n",
        "\n",
        "import numpy as np\n",
        "import matplotlib.pyplot as plt\n",
        "from nndl.cnn import *\n",
        "from cs231n.data_utils import get_CIFAR10_data\n",
        "from cs231n.gradient_check import eval_numerical_gradient_array, eval_numerical_gradient\n",
        "from nndl.layers import *\n",
        "from nndl.conv_layers import *\n",
        "from cs231n.fast_layers import *\n",
        "from cs231n.solver import Solver\n",
        "\n",
        "%matplotlib inline\n",
        "plt.rcParams['figure.figsize'] = (10.0, 8.0) # set default size of plots\n",
        "plt.rcParams['image.interpolation'] = 'nearest'\n",
        "plt.rcParams['image.cmap'] = 'gray'\n",
        "\n",
        "# for auto-reloading external modules\n",
        "# see http://stackoverflow.com/questions/1907993/autoreload-of-modules-in-ipython\n",
        "%load_ext autoreload\n",
        "%autoreload 2\n",
        "\n",
        "def rel_error(x, y):\n",
        "  \"\"\" returns relative error \"\"\"\n",
        "  return np.max(np.abs(x - y) / (np.maximum(1e-8, np.abs(x) + np.abs(y))))"
      ],
      "execution_count": 0,
      "outputs": []
    },
    {
      "cell_type": "code",
      "metadata": {
        "id": "TC0ofX0nsjTo",
        "colab_type": "code",
        "outputId": "e929cc92-0781-4a10-a467-82cbef977be0",
        "colab": {
          "base_uri": "https://localhost:8080/",
          "height": 119
        }
      },
      "source": [
        "# Load the (preprocessed) CIFAR10 data.\n",
        "\n",
        "###########################################################\n",
        "# to get data in colab, I changed the path in data_utils.py\n",
        "###########################################################\n",
        "data = get_CIFAR10_data()\n",
        "for k in data.keys():\n",
        "  print('{}: {} '.format(k, data[k].shape))"
      ],
      "execution_count": 0,
      "outputs": [
        {
          "output_type": "stream",
          "text": [
            "X_train: (49000, 3, 32, 32) \n",
            "y_train: (49000,) \n",
            "X_val: (1000, 3, 32, 32) \n",
            "y_val: (1000,) \n",
            "X_test: (1000, 3, 32, 32) \n",
            "y_test: (1000,) \n"
          ],
          "name": "stdout"
        }
      ]
    },
    {
      "cell_type": "markdown",
      "metadata": {
        "id": "_2SbI6susjTs",
        "colab_type": "text"
      },
      "source": [
        "## Three layer CNN\n",
        "\n",
        "In this notebook, you will implement a three layer CNN.  The `ThreeLayerConvNet` class is in `nndl/cnn.py`.  You'll need to modify that code for this section, including the initialization, as well as the calculation of the loss and gradients.  You should be able to use the building blocks you have either earlier coded or that we have provided.  Be sure to use the fast layers.\n",
        "\n",
        "The architecture of this CNN will be:\n",
        "\n",
        "conv - relu - 2x2 max pool - affine - relu - affine - softmax\n",
        "\n",
        "We won't use batchnorm yet.  You've also done enough of these to know how to debug; use the cells below.\n",
        "\n",
        "Note: As we are implementing several layers CNN networks. The gradient error can be expected for the `eval_numerical_gradient()` function. If your `W1 max relative error` and `W2 max relative error` are around or below 0.01, they should be acceptable. Other errors should be less than 1e-5. "
      ]
    },
    {
      "cell_type": "code",
      "metadata": {
        "id": "2L1_3i6dsjTt",
        "colab_type": "code",
        "outputId": "d19fd95b-0a0c-4fab-aeab-ef6b5de581bd",
        "colab": {
          "base_uri": "https://localhost:8080/",
          "height": 119
        }
      },
      "source": [
        "num_inputs = 2\n",
        "input_dim = (3, 16, 16)\n",
        "reg = 0.0\n",
        "num_classes = 10\n",
        "X = np.random.randn(num_inputs, *input_dim)\n",
        "y = np.random.randint(num_classes, size=num_inputs)\n",
        "\n",
        "model = ThreeLayerConvNet(num_filters=3, filter_size=3,\n",
        "                          input_dim=input_dim, hidden_dim=7,\n",
        "                          dtype=np.float64)\n",
        "loss, grads = model.loss(X, y)\n",
        "for param_name in sorted(grads):\n",
        "    f = lambda _: model.loss(X, y)[0]\n",
        "    param_grad_num = eval_numerical_gradient(f, model.params[param_name], verbose=False, h=1e-6)\n",
        "    e = rel_error(param_grad_num, grads[param_name])\n",
        "    print('{} max relative error: {}'.format(param_name, rel_error(param_grad_num, grads[param_name])))"
      ],
      "execution_count": 0,
      "outputs": [
        {
          "output_type": "stream",
          "text": [
            "W1 max relative error: 9.822197501584604e-05\n",
            "W2 max relative error: 0.005540632458230171\n",
            "W3 max relative error: 6.380002133117456e-05\n",
            "b1 max relative error: 5.9328041358936905e-06\n",
            "b2 max relative error: 2.1988774848328413e-07\n",
            "b3 max relative error: 1.8697335465616255e-09\n"
          ],
          "name": "stdout"
        }
      ]
    },
    {
      "cell_type": "markdown",
      "metadata": {
        "id": "H4PSzKvysjTw",
        "colab_type": "text"
      },
      "source": [
        "### Overfit small dataset\n",
        "\n",
        "To check your CNN implementation, let's overfit a small dataset."
      ]
    },
    {
      "cell_type": "code",
      "metadata": {
        "id": "qj1jRb8IsjTy",
        "colab_type": "code",
        "outputId": "6acdd7f9-83b5-47e7-9a1d-5ebe40c2c60e",
        "colab": {
          "base_uri": "https://localhost:8080/",
          "height": 544
        }
      },
      "source": [
        "num_train = 100\n",
        "small_data = {\n",
        "  'X_train': data['X_train'][:num_train],\n",
        "  'y_train': data['y_train'][:num_train],\n",
        "  'X_val': data['X_val'],\n",
        "  'y_val': data['y_val'],\n",
        "}\n",
        "\n",
        "model = ThreeLayerConvNet(weight_scale=1e-2)\n",
        "\n",
        "solver = Solver(model, small_data,\n",
        "                num_epochs=10, batch_size=50,\n",
        "                update_rule='adam',\n",
        "                optim_config={\n",
        "                  'learning_rate': 1e-3,\n",
        "                },\n",
        "                verbose=True, print_every=1)\n",
        "solver.train()"
      ],
      "execution_count": 0,
      "outputs": [
        {
          "output_type": "stream",
          "text": [
            "(Iteration 1 / 20) loss: 2.300467\n",
            "(Epoch 0 / 10) train acc: 0.190000; val_acc: 0.127000\n",
            "(Iteration 2 / 20) loss: 4.819007\n",
            "(Epoch 1 / 10) train acc: 0.150000; val_acc: 0.117000\n",
            "(Iteration 3 / 20) loss: 2.598862\n",
            "(Iteration 4 / 20) loss: 2.518226\n",
            "(Epoch 2 / 10) train acc: 0.320000; val_acc: 0.096000\n",
            "(Iteration 5 / 20) loss: 2.339094\n",
            "(Iteration 6 / 20) loss: 2.202266\n",
            "(Epoch 3 / 10) train acc: 0.350000; val_acc: 0.148000\n",
            "(Iteration 7 / 20) loss: 1.915357\n",
            "(Iteration 8 / 20) loss: 1.614434\n",
            "(Epoch 4 / 10) train acc: 0.540000; val_acc: 0.191000\n",
            "(Iteration 9 / 20) loss: 1.361301\n",
            "(Iteration 10 / 20) loss: 1.302697\n",
            "(Epoch 5 / 10) train acc: 0.460000; val_acc: 0.186000\n",
            "(Iteration 11 / 20) loss: 1.249030\n",
            "(Iteration 12 / 20) loss: 1.215577\n",
            "(Epoch 6 / 10) train acc: 0.600000; val_acc: 0.204000\n",
            "(Iteration 13 / 20) loss: 1.448135\n",
            "(Iteration 14 / 20) loss: 1.114516\n",
            "(Epoch 7 / 10) train acc: 0.770000; val_acc: 0.202000\n",
            "(Iteration 15 / 20) loss: 1.230699\n",
            "(Iteration 16 / 20) loss: 0.734550\n",
            "(Epoch 8 / 10) train acc: 0.800000; val_acc: 0.234000\n",
            "(Iteration 17 / 20) loss: 0.757959\n",
            "(Iteration 18 / 20) loss: 0.743311\n",
            "(Epoch 9 / 10) train acc: 0.830000; val_acc: 0.222000\n",
            "(Iteration 19 / 20) loss: 0.591756\n",
            "(Iteration 20 / 20) loss: 0.680798\n",
            "(Epoch 10 / 10) train acc: 0.880000; val_acc: 0.212000\n"
          ],
          "name": "stdout"
        }
      ]
    },
    {
      "cell_type": "code",
      "metadata": {
        "id": "yvTuMTsUsjT1",
        "colab_type": "code",
        "outputId": "83d178f1-9a07-4691-bb6c-a6efbbbf3683",
        "colab": {
          "base_uri": "https://localhost:8080/",
          "height": 499
        }
      },
      "source": [
        "plt.subplot(2, 1, 1)\n",
        "plt.plot(solver.loss_history, 'o')\n",
        "plt.xlabel('iteration')\n",
        "plt.ylabel('loss')\n",
        "\n",
        "plt.subplot(2, 1, 2)\n",
        "plt.plot(solver.train_acc_history, '-o')\n",
        "plt.plot(solver.val_acc_history, '-o')\n",
        "plt.legend(['train', 'val'], loc='upper left')\n",
        "plt.xlabel('epoch')\n",
        "plt.ylabel('accuracy')\n",
        "plt.show()"
      ],
      "execution_count": 0,
      "outputs": [
        {
          "output_type": "display_data",
          "data": {
            "image/png": "[encoded data removed]",
            "text/plain": [
              "<Figure size 720x576 with 2 Axes>"
            ]
          },
          "metadata": {
            "tags": []
          }
        }
      ]
    },
    {
      "cell_type": "markdown",
      "metadata": {
        "id": "5zfOBcYksjT5",
        "colab_type": "text"
      },
      "source": [
        "## Train the network\n",
        "\n",
        "Now we train the 3 layer CNN on CIFAR-10 and assess its accuracy."
      ]
    },
    {
      "cell_type": "code",
      "metadata": {
        "scrolled": false,
        "id": "vmhnaH4fsjT8",
        "colab_type": "code",
        "outputId": "5035dc93-eae4-447b-ff63-d4555390b2d1",
        "colab": {
          "base_uri": "https://localhost:8080/",
          "height": 476
        }
      },
      "source": [
        "model = ThreeLayerConvNet(weight_scale=0.001, hidden_dim=600, reg=0.001)\n",
        "\n",
        "solver = Solver(model, data,\n",
        "                num_epochs=1, batch_size=100,\n",
        "                update_rule='adam',\n",
        "                optim_config={\n",
        "                  'learning_rate': 1e-3,\n",
        "                },\n",
        "                verbose=True, print_every=20)\n",
        "solver.train()"
      ],
      "execution_count": 0,
      "outputs": [
        {
          "output_type": "stream",
          "text": [
            "(Iteration 1 / 490) loss: 2.304918\n",
            "(Epoch 0 / 1) train acc: 0.122000; val_acc: 0.148000\n",
            "(Iteration 21 / 490) loss: 2.055237\n",
            "(Iteration 41 / 490) loss: 1.819206\n",
            "(Iteration 61 / 490) loss: 2.044118\n",
            "(Iteration 81 / 490) loss: 1.794428\n",
            "(Iteration 101 / 490) loss: 1.705176\n",
            "(Iteration 121 / 490) loss: 1.427926\n",
            "(Iteration 141 / 490) loss: 1.562516\n",
            "(Iteration 161 / 490) loss: 1.664951\n",
            "(Iteration 181 / 490) loss: 1.711468\n",
            "(Iteration 201 / 490) loss: 1.696986\n",
            "(Iteration 221 / 490) loss: 1.778774\n",
            "(Iteration 241 / 490) loss: 1.630201\n",
            "(Iteration 261 / 490) loss: 1.412689\n",
            "(Iteration 281 / 490) loss: 1.560834\n",
            "(Iteration 301 / 490) loss: 1.495999\n",
            "(Iteration 321 / 490) loss: 1.443028\n",
            "(Iteration 341 / 490) loss: 1.290532\n",
            "(Iteration 361 / 490) loss: 1.560255\n",
            "(Iteration 381 / 490) loss: 1.505652\n",
            "(Iteration 401 / 490) loss: 1.670960\n",
            "(Iteration 421 / 490) loss: 1.423773\n",
            "(Iteration 441 / 490) loss: 1.553124\n",
            "(Iteration 461 / 490) loss: 1.437543\n",
            "(Iteration 481 / 490) loss: 1.496282\n",
            "(Epoch 1 / 1) train acc: 0.528000; val_acc: 0.526000\n"
          ],
          "name": "stdout"
        }
      ]
    },
    {
      "cell_type": "markdown",
      "metadata": {
        "id": "ieVlB3wZsjUD",
        "colab_type": "text"
      },
      "source": [
        "# Get > 65% validation accuracy on CIFAR-10.\n",
        "\n",
        "In the last part of the assignment, we'll now ask you to train a CNN to get better than 65% validation accuracy on CIFAR-10.\n",
        "\n",
        "### Things you should try:\n",
        "- Filter size: Above we used 7x7; but VGGNet and onwards showed stacks of 3x3 filters are good.  \n",
        "- Number of filters: Above we used 32 filters. Do more or fewer do better?\n",
        "- Batch normalization: Try adding spatial batch normalization after convolution layers and vanilla batch normalization after affine layers. Do your networks train faster?\n",
        "- Network architecture: Can a deeper CNN do better?  Consider these architectures:\n",
        "    - [conv-relu-pool]xN - conv - relu - [affine]xM - [softmax or SVM]\n",
        "    - [conv-relu-pool]XN - [affine]XM - [softmax or SVM]\n",
        "    - [conv-relu-conv-relu-pool]xN - [affine]xM - [softmax or SVM]\n",
        "\n",
        "### Tips for training\n",
        "For each network architecture that you try, you should tune the learning rate and regularization strength. When doing this there are a couple of important things to keep in mind:\n",
        "\n",
        "- If the parameters are working well, you should see improvement within a few hundred iterations\n",
        "- Remember the coarse-to-fine approach for hyperparameter tuning: start by testing a large range of hyperparameters for just a few training iterations to find the combinations of parameters that are working at all.\n",
        "- Once you have found some sets of parameters that seem to work, search more finely around these parameters. You may need to train for more epochs."
      ]
    },
    {
      "cell_type": "code",
      "metadata": {
        "scrolled": false,
        "id": "JN94J2XZsjUF",
        "colab_type": "code",
        "outputId": "86d90695-a248-462b-ab0d-25d2067a3a37",
        "colab": {
          "base_uri": "https://localhost:8080/",
          "height": 1000
        }
      },
      "source": [
        "# ================================================================ #\n",
        "# YOUR CODE HERE:\n",
        "#   Implement a CNN to achieve greater than 65% validation accuracy\n",
        "#   on CIFAR-10.\n",
        "# ================================================================ #\n",
        "model = ThreeLayerConvNet(weight_scale=0.001, hidden_dim=500, reg=0.001)\n",
        "\n",
        "solver = Solver(model, data,\n",
        "                num_epochs=10, batch_size=400,\n",
        "                update_rule='adam',\n",
        "                optim_config={\n",
        "                  'learning_rate': 1e-3,\n",
        "                },\n",
        "                lr_decay = 0.9,\n",
        "                verbose=True, print_every=20)\n",
        "solver.train()\n",
        "\n",
        "# ================================================================ #\n",
        "# END YOUR CODE HERE\n",
        "# ================================================================ #\n"
      ],
      "execution_count": 0,
      "outputs": [
        {
          "output_type": "stream",
          "text": [
            "(Iteration 1 / 1220) loss: 2.304685\n",
            "(Epoch 0 / 10) train acc: 0.070000; val_acc: 0.093000\n",
            "(Iteration 21 / 1220) loss: 1.903391\n",
            "(Iteration 41 / 1220) loss: 1.749127\n",
            "(Iteration 61 / 1220) loss: 1.600622\n",
            "(Iteration 81 / 1220) loss: 1.491769\n",
            "(Iteration 101 / 1220) loss: 1.443857\n",
            "(Iteration 121 / 1220) loss: 1.414991\n",
            "(Epoch 1 / 10) train acc: 0.564000; val_acc: 0.532000\n",
            "(Iteration 141 / 1220) loss: 1.253286\n",
            "(Iteration 161 / 1220) loss: 1.150529\n",
            "(Iteration 181 / 1220) loss: 1.245699\n",
            "(Iteration 201 / 1220) loss: 1.190377\n",
            "(Iteration 221 / 1220) loss: 1.177776\n",
            "(Iteration 241 / 1220) loss: 1.166737\n",
            "(Epoch 2 / 10) train acc: 0.595000; val_acc: 0.577000\n",
            "(Iteration 261 / 1220) loss: 1.211956\n",
            "(Iteration 281 / 1220) loss: 1.127426\n",
            "(Iteration 301 / 1220) loss: 1.011763\n",
            "(Iteration 321 / 1220) loss: 1.025303\n",
            "(Iteration 341 / 1220) loss: 0.943959\n",
            "(Iteration 361 / 1220) loss: 1.096310\n",
            "(Epoch 3 / 10) train acc: 0.680000; val_acc: 0.620000\n",
            "(Iteration 381 / 1220) loss: 0.981938\n",
            "(Iteration 401 / 1220) loss: 0.906103\n",
            "(Iteration 421 / 1220) loss: 0.894851\n",
            "(Iteration 441 / 1220) loss: 0.867367\n",
            "(Iteration 461 / 1220) loss: 0.920752\n",
            "(Iteration 481 / 1220) loss: 0.884856\n",
            "(Epoch 4 / 10) train acc: 0.711000; val_acc: 0.660000\n",
            "(Iteration 501 / 1220) loss: 0.975785\n",
            "(Iteration 521 / 1220) loss: 0.836814\n",
            "(Iteration 541 / 1220) loss: 0.808913\n",
            "(Iteration 561 / 1220) loss: 0.917415\n",
            "(Iteration 581 / 1220) loss: 0.834920\n",
            "(Iteration 601 / 1220) loss: 0.876760\n",
            "(Epoch 5 / 10) train acc: 0.736000; val_acc: 0.644000\n",
            "(Iteration 621 / 1220) loss: 0.839184\n",
            "(Iteration 641 / 1220) loss: 0.752158\n",
            "(Iteration 661 / 1220) loss: 0.808020\n",
            "(Iteration 681 / 1220) loss: 0.797733\n",
            "(Iteration 701 / 1220) loss: 0.693539\n",
            "(Iteration 721 / 1220) loss: 0.740870\n",
            "(Epoch 6 / 10) train acc: 0.749000; val_acc: 0.645000\n",
            "(Iteration 741 / 1220) loss: 0.690059\n",
            "(Iteration 761 / 1220) loss: 0.725423\n",
            "(Iteration 781 / 1220) loss: 0.695488\n",
            "(Iteration 801 / 1220) loss: 0.752265\n",
            "(Iteration 821 / 1220) loss: 0.721513\n",
            "(Iteration 841 / 1220) loss: 0.729068\n",
            "(Epoch 7 / 10) train acc: 0.798000; val_acc: 0.662000\n",
            "(Iteration 861 / 1220) loss: 0.700157\n",
            "(Iteration 881 / 1220) loss: 0.629289\n",
            "(Iteration 901 / 1220) loss: 0.690992\n",
            "(Iteration 921 / 1220) loss: 0.649399\n",
            "(Iteration 941 / 1220) loss: 0.614525\n",
            "(Iteration 961 / 1220) loss: 0.687097\n",
            "(Epoch 8 / 10) train acc: 0.837000; val_acc: 0.672000\n",
            "(Iteration 981 / 1220) loss: 0.634990\n",
            "(Iteration 1001 / 1220) loss: 0.682541\n",
            "(Iteration 1021 / 1220) loss: 0.610904\n",
            "(Iteration 1041 / 1220) loss: 0.535849\n",
            "(Iteration 1061 / 1220) loss: 0.534618\n",
            "(Iteration 1081 / 1220) loss: 0.493908\n",
            "(Epoch 9 / 10) train acc: 0.836000; val_acc: 0.673000\n",
            "(Iteration 1101 / 1220) loss: 0.584635\n",
            "(Iteration 1121 / 1220) loss: 0.519677\n",
            "(Iteration 1141 / 1220) loss: 0.540900\n",
            "(Iteration 1161 / 1220) loss: 0.538238\n",
            "(Iteration 1181 / 1220) loss: 0.532024\n",
            "(Iteration 1201 / 1220) loss: 0.514114\n",
            "(Epoch 10 / 10) train acc: 0.817000; val_acc: 0.661000\n"
          ],
          "name": "stdout"
        }
      ]
    },
    {
      "cell_type": "code",
      "metadata": {
        "id": "KguBYlpasjUM",
        "colab_type": "code",
        "colab": {}
      },
      "source": [
        ""
      ],
      "execution_count": 0,
      "outputs": []
    }
  ]
}